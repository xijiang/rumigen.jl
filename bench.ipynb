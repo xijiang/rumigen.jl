{
 "cells": [
  {
   "cell_type": "code",
   "execution_count": 2,
   "metadata": {},
   "outputs": [
    {
     "name": "stderr",
     "output_type": "stream",
     "text": [
      "\u001b[32m\u001b[1m  Activating\u001b[22m\u001b[39m project at `/mnt/e/1t-nvme/project/rumigen.jl`\n"
     ]
    }
   ],
   "source": [
    "using Pkg\n",
    "Pkg.activate(\".\")\n",
    "using rumigen, DataFrames, Statistics, Serialization, LinearAlgebra"
   ]
  },
  {
   "cell_type": "code",
   "execution_count": 4,
   "metadata": {},
   "outputs": [],
   "source": [
    "ped = deserialize(\"rst/test-suite/bar-uhp+ped.ser\")\n",
    "K = 2(1 - (1 - .027) * (1 - .0125)^2)\n",
    "A = rumigen.Amat(ped, m = 1200)\n",
    "rumigen.animalModel(ped, inv(A), .25)\n",
    "crp = filter(row -> row.grt == 0, ped)\n",
    "pool = 1001:1200\n",
    "A22 = A[pool, pool];"
   ]
  },
  {
   "cell_type": "code",
   "execution_count": 10,
   "metadata": {},
   "outputs": [
    {
     "name": "stdout",
     "output_type": "stream",
     "text": [
      "\u001b[32mSearching solution for K \u001b[38;2;239;83;80m=\u001b[39m\u001b[32m \u001b[39m\u001b[38;2;144;202;249m0.7\u001b[39m:  \n",
      "  iter: \u001b[38;2;144;202;249m1\u001b[39m, \u001b[36mnID\u001b[39m: \u001b[38;2;144;202;249m104\u001b[39m  iter: \u001b[38;2;144;202;249m2\u001b[39m, \u001b[36mnID\u001b[39m: \u001b[38;2;144;202;249m56\u001b[39m  iter: \u001b[38;2;144;202;249m3\u001b[39m, \u001b[36mnID\u001b[39m: \u001b[38;2;144;202;249m29\u001b[39m  iter: \u001b[38;2;144;202;249m4\u001b[39m, \u001b[36mnID\u001b[39m: \u001b[38;2;144;202;249m17\u001b[39m  iter: \u001b[38;2;144;202;249m5\u001b[39m, \u001b[36mnID\u001b[39m: \u001b[38;2;144;202;249m10\u001b[39m  iter: \u001b[38;2;144;202;249m6\u001b[39m, \u001b[36mnID\u001b[39m: \u001b[38;2;144;202;249m6\u001b[39m  iter: \u001b[38;2;144;202;249m7\u001b[39m, \u001b[36mnID\u001b[39m: \u001b[38;2;144;202;249m4\u001b[39m  iter: \u001b[38;2;144;202;249m8\u001b[39m, \u001b[36mnID\u001b[39m: \u001b[38;2;144;202;249m3\u001b[39m  iter: \u001b[38;2;144;202;249m9\u001b[39m, \u001b[36mnID\u001b[39m: \u001b[38;2;144;202;249m2\u001b[39m  iter: \u001b[38;2;144;202;249m10\u001b[39m, \u001b[36mnID\u001b[39m: \u001b[38;2;144;202;249m2\u001b[39m\n",
      "\u001b[34mSolution found\u001b[39m, \n",
      "                                n \u001b[38;2;239;83;80m=\u001b[39m \u001b[38;2;144;202;249m2\u001b[39m c'Ac \u001b[38;2;239;83;80m=\u001b[39m  \u001b[38;2;144;202;249m0.555\u001b[39m \n"
     ]
    },
    {
     "data": {
      "text/plain": [
       "2"
      ]
     },
     "metadata": {},
     "output_type": "display_data"
    }
   ],
   "source": [
    "c = rumigen.myopt(select(crp, [:ebv, :sex]), A22, 0.7)\n",
    "sum(c .> 0.0)"
   ]
  },
  {
   "cell_type": "code",
   "execution_count": 18,
   "metadata": {},
   "outputs": [
    {
     "data": {
      "text/plain": [
       "200×200 Matrix{Float64}:\n",
       "  1.65819      -0.0518417     0.00324429   …  -0.00964322   0.0044149\n",
       " -0.0518417     1.66082      -0.0100617        0.00447173   0.000813756\n",
       "  0.00324429   -0.0100617     1.71222          0.0013211   -0.000715304\n",
       " -0.00174228    0.00390053   -0.0402456       -0.00106792  -0.000992117\n",
       " -0.00205768    0.00327479   -0.0436912        5.3732e-5   -0.000629493\n",
       " -0.00899942    0.00168912    0.00434556   …  -0.0102821    0.00814061\n",
       "  0.00542595   -0.00285402   -0.00322555       0.00431283  -0.0128421\n",
       "  0.00189315   -0.00106903    3.77557e-5      -0.00121421   0.00112133\n",
       " -0.00383953   -0.00217842   -0.00253838       0.00173101   0.000576568\n",
       " -0.0218474     0.00875929    0.00489122      -0.00542861   0.00241315\n",
       "  ⋮                                        ⋱               \n",
       "  0.00143728   -0.00257981    0.00201188      -0.00479253  -0.00337389\n",
       " -0.000433587   0.00151512    0.0103655       -0.00230607   0.000733356\n",
       " -0.0023736     0.00263552    0.0131825       -0.00381715   0.000381869\n",
       "  0.0030544    -0.0107492    -0.0355033       -0.00381747   0.000851569\n",
       "  0.00149119    0.00156271    0.00406624   …  -0.00242295  -0.000267224\n",
       " -0.00141223   -0.000631091   0.00515825      -0.0010799   -0.00159866\n",
       " -0.00139624   -0.00300098    0.00146212       0.00134394   0.000579407\n",
       " -0.00964322    0.00447173    0.0013211        1.65951     -0.0511675\n",
       "  0.0044149     0.000813756  -0.000715304     -0.0511675    1.66929"
      ]
     },
     "metadata": {},
     "output_type": "display_data"
    }
   ],
   "source": [
    "inv(A[pool, pool])"
   ]
  }
 ],
 "metadata": {
  "kernelspec": {
   "display_name": "Julia 1.9.2",
   "language": "julia",
   "name": "julia-1.9"
  },
  "language_info": {
   "file_extension": ".jl",
   "mimetype": "application/julia",
   "name": "julia",
   "version": "1.9.2"
  },
  "orig_nbformat": 4
 },
 "nbformat": 4,
 "nbformat_minor": 2
}
